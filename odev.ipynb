{
  "nbformat": 4,
  "nbformat_minor": 0,
  "metadata": {
    "colab": {
      "name": "odev.ipynb",
      "provenance": [],
      "collapsed_sections": []
    },
    "kernelspec": {
      "name": "python3",
      "display_name": "Python 3"
    },
    "accelerator": "GPU"
  },
  "cells": [
    {
      "cell_type": "code",
      "metadata": {
        "id": "oNmltxvzgxYu",
        "colab_type": "code",
        "colab": {}
      },
      "source": [
        "pip install tensorflow keras numpy mnist matplotlib scipy pillow"
      ],
      "execution_count": 0,
      "outputs": []
    },
    {
      "cell_type": "code",
      "metadata": {
        "id": "QuvltthyhvP5",
        "colab_type": "code",
        "colab": {}
      },
      "source": [
        "from __future__ import division, print_function, absolute_import\n",
        "import tflearn\n",
        "import numpy as np\n",
        "import scipy\n",
        "import tflearn.datasets.mnist as mnist\n",
        "import imageio"
      ],
      "execution_count": 0,
      "outputs": []
    },
    {
      "cell_type": "code",
      "metadata": {
        "id": "lmkIZfidobna",
        "colab_type": "code",
        "colab": {}
      },
      "source": [
        "X, Y, testX, testY = mnist.load_data(one_hot=True)"
      ],
      "execution_count": 0,
      "outputs": []
    },
    {
      "cell_type": "code",
      "metadata": {
        "id": "16iEpouJiAtu",
        "colab_type": "code",
        "colab": {}
      },
      "source": [
        "input_layer = tflearn.input_data((None,784))\n",
        "hidden_layer1 = tflearn.fully_connected(input_layer, 128, activation='relu', regularizer='L2', weight_decay= 0.001)\n",
        "dropout1 = tflearn.dropout(hidden_layer1, 0.8)\n",
        "hidden_layer2 = tflearn.fully_connected(dropout1, 128, activation='relu', regularizer='L2', weight_decay= 0.001)\n",
        "dropout2 = tflearn.dropout(hidden_layer2, 0.8)"
      ],
      "execution_count": 0,
      "outputs": []
    },
    {
      "cell_type": "code",
      "metadata": {
        "id": "T1r3Exw6icj0",
        "colab_type": "code",
        "colab": {}
      },
      "source": [
        "softmax = tflearn.fully_connected(dropout2, 10, activation='softmax')\n",
        "sgd = tflearn.SGD(learning_rate=0.01, lr_decay= 0.96, decay_step=1000)\n",
        "top_k = tflearn.metrics.Top_k(3)\n",
        "net = tflearn.regression(softmax, optimizer=sgd, metric=top_k, loss='categorical_crossentropy')\n",
        "model = tflearn.DNN(net, tensorboard_verbose=0)"
      ],
      "execution_count": 0,
      "outputs": []
    },
    {
      "cell_type": "code",
      "metadata": {
        "id": "kQfcZOW7ihhv",
        "colab_type": "code",
        "colab": {}
      },
      "source": [
        "model.fit(X, Y, n_epoch=10, validation_set=(testX, testY), show_metric=True, run_id='dense_model')"
      ],
      "execution_count": 0,
      "outputs": []
    },
    {
      "cell_type": "code",
      "metadata": {
        "id": "v4aZj_WykuVa",
        "colab_type": "code",
        "colab": {}
      },
      "source": [
        "cizim = np.vectorize(lambda x:255 - x)(np.ndarray.flatten(matplotlib.pyplot.imread(\"deneme.png\")))\n",
        "cizim = np.array(cizim).reshape(1, 784)\n",
        "print(\"a\")\n",
        "print(model.predict(cizim))\n",
        "print(\"b\") "
      ],
      "execution_count": 0,
      "outputs": []
    }
  ]
}